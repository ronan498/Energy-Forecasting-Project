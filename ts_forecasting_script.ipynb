{
  "cells": [
    {
      "cell_type": "markdown",
      "metadata": {
        "id": "bf5e8ec5"
      },
      "source": [
        "### Importing the necessary libraries"
      ],
      "id": "bf5e8ec5"
    },
    {
      "cell_type": "code",
      "execution_count": null,
      "metadata": {
        "id": "1b656d7d"
      },
      "outputs": [],
      "source": [
        "import pandas as pd\n",
        "import numpy as np\n",
        "import io\n",
        "from google.colab import files\n",
        "\n",
        "import matplotlib.pyplot as plt\n",
        "import seaborn as sns\n",
        "\n",
        "import datetime\n",
        "import statsmodels.api as sm\n",
        "from statsmodels.tsa.seasonal import seasonal_decompose\n",
        "from statsmodels.tsa.stattools import adfuller\n",
        "from statsmodels.graphics.tsaplots import plot_acf, plot_pacf\n",
        "from pandas.plotting import autocorrelation_plot\n",
        "from statsmodels.tsa.stattools import kpss\n",
        "\n",
        "from sklearn.model_selection import train_test_split\n",
        "\n",
        "import pmdarima as pm\n",
        "from statsmodels.tsa.arima.model import ARIMA\n",
        "from autots import AutoTS, load_daily\n",
        "\n",
        "from sklearn.metrics import mean_squared_error\n",
        "import warnings"
      ],
      "id": "1b656d7d"
    },
    {
      "cell_type": "code",
      "execution_count": null,
      "metadata": {
        "colab": {
          "background_save": true,
          "base_uri": "https://localhost:8080/",
          "height": 56
        },
        "id": "_V7F0eXbgaBu",
        "scrolled": true,
        "outputId": "d0585c44-e81f-4c94-8a5d-303d4838f03e"
      },
      "outputs": [
        {
          "data": {
            "text/html": [
              "\n",
              "     <input type=\"file\" id=\"files-ba56d719-6f1e-47c9-bebe-34afc66c19cb\" name=\"files[]\" multiple disabled\n",
              "        style=\"border:none\" />\n",
              "     <output id=\"result-ba56d719-6f1e-47c9-bebe-34afc66c19cb\">\n",
              "      Upload widget is only available when the cell has been executed in the\n",
              "      current browser session. Please rerun this cell to enable.\n",
              "      </output>\n",
              "      <script>// Copyright 2017 Google LLC\n",
              "//\n",
              "// Licensed under the Apache License, Version 2.0 (the \"License\");\n",
              "// you may not use this file except in compliance with the License.\n",
              "// You may obtain a copy of the License at\n",
              "//\n",
              "//      http://www.apache.org/licenses/LICENSE-2.0\n",
              "//\n",
              "// Unless required by applicable law or agreed to in writing, software\n",
              "// distributed under the License is distributed on an \"AS IS\" BASIS,\n",
              "// WITHOUT WARRANTIES OR CONDITIONS OF ANY KIND, either express or implied.\n",
              "// See the License for the specific language governing permissions and\n",
              "// limitations under the License.\n",
              "\n",
              "/**\n",
              " * @fileoverview Helpers for google.colab Python module.\n",
              " */\n",
              "(function(scope) {\n",
              "function span(text, styleAttributes = {}) {\n",
              "  const element = document.createElement('span');\n",
              "  element.textContent = text;\n",
              "  for (const key of Object.keys(styleAttributes)) {\n",
              "    element.style[key] = styleAttributes[key];\n",
              "  }\n",
              "  return element;\n",
              "}\n",
              "\n",
              "// Max number of bytes which will be uploaded at a time.\n",
              "const MAX_PAYLOAD_SIZE = 100 * 1024;\n",
              "\n",
              "function _uploadFiles(inputId, outputId) {\n",
              "  const steps = uploadFilesStep(inputId, outputId);\n",
              "  const outputElement = document.getElementById(outputId);\n",
              "  // Cache steps on the outputElement to make it available for the next call\n",
              "  // to uploadFilesContinue from Python.\n",
              "  outputElement.steps = steps;\n",
              "\n",
              "  return _uploadFilesContinue(outputId);\n",
              "}\n",
              "\n",
              "// This is roughly an async generator (not supported in the browser yet),\n",
              "// where there are multiple asynchronous steps and the Python side is going\n",
              "// to poll for completion of each step.\n",
              "// This uses a Promise to block the python side on completion of each step,\n",
              "// then passes the result of the previous step as the input to the next step.\n",
              "function _uploadFilesContinue(outputId) {\n",
              "  const outputElement = document.getElementById(outputId);\n",
              "  const steps = outputElement.steps;\n",
              "\n",
              "  const next = steps.next(outputElement.lastPromiseValue);\n",
              "  return Promise.resolve(next.value.promise).then((value) => {\n",
              "    // Cache the last promise value to make it available to the next\n",
              "    // step of the generator.\n",
              "    outputElement.lastPromiseValue = value;\n",
              "    return next.value.response;\n",
              "  });\n",
              "}\n",
              "\n",
              "/**\n",
              " * Generator function which is called between each async step of the upload\n",
              " * process.\n",
              " * @param {string} inputId Element ID of the input file picker element.\n",
              " * @param {string} outputId Element ID of the output display.\n",
              " * @return {!Iterable<!Object>} Iterable of next steps.\n",
              " */\n",
              "function* uploadFilesStep(inputId, outputId) {\n",
              "  const inputElement = document.getElementById(inputId);\n",
              "  inputElement.disabled = false;\n",
              "\n",
              "  const outputElement = document.getElementById(outputId);\n",
              "  outputElement.innerHTML = '';\n",
              "\n",
              "  const pickedPromise = new Promise((resolve) => {\n",
              "    inputElement.addEventListener('change', (e) => {\n",
              "      resolve(e.target.files);\n",
              "    });\n",
              "  });\n",
              "\n",
              "  const cancel = document.createElement('button');\n",
              "  inputElement.parentElement.appendChild(cancel);\n",
              "  cancel.textContent = 'Cancel upload';\n",
              "  const cancelPromise = new Promise((resolve) => {\n",
              "    cancel.onclick = () => {\n",
              "      resolve(null);\n",
              "    };\n",
              "  });\n",
              "\n",
              "  // Wait for the user to pick the files.\n",
              "  const files = yield {\n",
              "    promise: Promise.race([pickedPromise, cancelPromise]),\n",
              "    response: {\n",
              "      action: 'starting',\n",
              "    }\n",
              "  };\n",
              "\n",
              "  cancel.remove();\n",
              "\n",
              "  // Disable the input element since further picks are not allowed.\n",
              "  inputElement.disabled = true;\n",
              "\n",
              "  if (!files) {\n",
              "    return {\n",
              "      response: {\n",
              "        action: 'complete',\n",
              "      }\n",
              "    };\n",
              "  }\n",
              "\n",
              "  for (const file of files) {\n",
              "    const li = document.createElement('li');\n",
              "    li.append(span(file.name, {fontWeight: 'bold'}));\n",
              "    li.append(span(\n",
              "        `(${file.type || 'n/a'}) - ${file.size} bytes, ` +\n",
              "        `last modified: ${\n",
              "            file.lastModifiedDate ? file.lastModifiedDate.toLocaleDateString() :\n",
              "                                    'n/a'} - `));\n",
              "    const percent = span('0% done');\n",
              "    li.appendChild(percent);\n",
              "\n",
              "    outputElement.appendChild(li);\n",
              "\n",
              "    const fileDataPromise = new Promise((resolve) => {\n",
              "      const reader = new FileReader();\n",
              "      reader.onload = (e) => {\n",
              "        resolve(e.target.result);\n",
              "      };\n",
              "      reader.readAsArrayBuffer(file);\n",
              "    });\n",
              "    // Wait for the data to be ready.\n",
              "    let fileData = yield {\n",
              "      promise: fileDataPromise,\n",
              "      response: {\n",
              "        action: 'continue',\n",
              "      }\n",
              "    };\n",
              "\n",
              "    // Use a chunked sending to avoid message size limits. See b/62115660.\n",
              "    let position = 0;\n",
              "    do {\n",
              "      const length = Math.min(fileData.byteLength - position, MAX_PAYLOAD_SIZE);\n",
              "      const chunk = new Uint8Array(fileData, position, length);\n",
              "      position += length;\n",
              "\n",
              "      const base64 = btoa(String.fromCharCode.apply(null, chunk));\n",
              "      yield {\n",
              "        response: {\n",
              "          action: 'append',\n",
              "          file: file.name,\n",
              "          data: base64,\n",
              "        },\n",
              "      };\n",
              "\n",
              "      let percentDone = fileData.byteLength === 0 ?\n",
              "          100 :\n",
              "          Math.round((position / fileData.byteLength) * 100);\n",
              "      percent.textContent = `${percentDone}% done`;\n",
              "\n",
              "    } while (position < fileData.byteLength);\n",
              "  }\n",
              "\n",
              "  // All done.\n",
              "  yield {\n",
              "    response: {\n",
              "      action: 'complete',\n",
              "    }\n",
              "  };\n",
              "}\n",
              "\n",
              "scope.google = scope.google || {};\n",
              "scope.google.colab = scope.google.colab || {};\n",
              "scope.google.colab._files = {\n",
              "  _uploadFiles,\n",
              "  _uploadFilesContinue,\n",
              "};\n",
              "})(self);\n",
              "</script> "
            ],
            "text/plain": [
              "<IPython.core.display.HTML object>"
            ]
          },
          "metadata": {},
          "output_type": "display_data"
        }
      ],
      "source": [
        "# Load the data into a pandas dataframe and set the timestamp column as the index of the dataframe\n",
        "data = files.upload()\n",
        "data[\"timestamp\"] = pd.to_datetime(data[\"timestamp\"])\n",
        "data = data.set_index(\"timestamp\")\n",
        "data.head()"
      ],
      "id": "_V7F0eXbgaBu"
    },
    {
      "cell_type": "markdown",
      "metadata": {
        "id": "cd41b58e"
      },
      "source": [
        "### EDA"
      ],
      "id": "cd41b58e"
    },
    {
      "cell_type": "code",
      "execution_count": null,
      "metadata": {
        "id": "347f63a4"
      },
      "outputs": [],
      "source": [
        "data.shape"
      ],
      "id": "347f63a4"
    },
    {
      "cell_type": "code",
      "execution_count": null,
      "metadata": {
        "id": "2b88a737"
      },
      "outputs": [],
      "source": [
        "#check for missing data\n",
        "nulls = data.isnull().sum()\n",
        "print('Number of null values in each column:')\n",
        "print(nulls)"
      ],
      "id": "2b88a737"
    },
    {
      "cell_type": "code",
      "execution_count": null,
      "metadata": {
        "id": "1ca927dc"
      },
      "outputs": [],
      "source": [
        "plt.figure(figsize=(30,8))\n",
        "plt.plot(data['actual_consumption'],label=\"Actual Consumption\")\n",
        "plt.title('Microgrid Actual Consumption')\n",
        "plt.xlabel('Timestamp')\n",
        "plt.ylabel('Power (kW)')\n",
        "plt.show()"
      ],
      "id": "1ca927dc"
    },
    {
      "cell_type": "markdown",
      "metadata": {
        "id": "52ce00f8"
      },
      "source": [
        "Due to some irregular patterns observed in the data such as in 2016-01 as well as the cyclical nature, a decomposition model can be used for further analysis."
      ],
      "id": "52ce00f8"
    },
    {
      "cell_type": "code",
      "execution_count": null,
      "metadata": {
        "id": "1d1edc29"
      },
      "outputs": [],
      "source": [
        "# additive decompose actual_consumption into trend, seasonality, and residuals\n",
        "decomposition = sm.tsa.seasonal_decompose(data['actual_consumption'], model='additive', period=15)"
      ],
      "id": "1d1edc29"
    },
    {
      "cell_type": "code",
      "execution_count": null,
      "metadata": {
        "id": "37b6f9e1"
      },
      "outputs": [],
      "source": [
        "plt.figure(figsize=(15,7))\n",
        "\n",
        "plt.subplot(411)\n",
        "plt.plot(decomposition.observed, label='observed')\n",
        "plt.legend(loc='upper right')\n",
        "\n",
        "plt.subplot(412)\n",
        "plt.plot(decomposition.trend, label='trend')\n",
        "plt.legend(loc='upper right')\n",
        "\n",
        "plt.subplot(413)\n",
        "plt.plot(decomposition.seasonal, label='seasonal')\n",
        "plt.legend(loc='upper right')\n",
        "plt.ylim(-1,2.5)\n",
        "\n",
        "plt.subplot(414)\n",
        "plt.plot(decomposition.resid, label='residual')\n",
        "plt.legend(loc='upper right')\n",
        "plt.tight_layout()"
      ],
      "id": "37b6f9e1"
    },
    {
      "cell_type": "markdown",
      "metadata": {
        "id": "6ebad70e"
      },
      "source": [
        "By analysing the multiplicative decomposition, it can be observed that there is no seasonality and there are not many outliers in the data, only between 2017-01 to 2017-04 can outliers be observed."
      ],
      "id": "6ebad70e"
    },
    {
      "cell_type": "markdown",
      "metadata": {
        "id": "1ef0bf96"
      },
      "source": [
        "### Testing for model"
      ],
      "id": "1ef0bf96"
    },
    {
      "cell_type": "markdown",
      "metadata": {
        "id": "1205bf3d"
      },
      "source": [
        "The Augmented Dickey-Fuller test is used to check for stationality."
      ],
      "id": "1205bf3d"
    },
    {
      "cell_type": "code",
      "execution_count": null,
      "metadata": {
        "id": "bb1e5c13"
      },
      "outputs": [],
      "source": [
        "result = adfuller(data[\"actual_consumption\"], maxlag = 1)\n",
        "print('ADF Statistic: %f' % result[0])\n",
        "print('P value: %f' % result[1])\n",
        "for key, value in result[4].items():\n",
        "    print('Critical Values (%s): %.3f' % (key, value))\n",
        "print()\n",
        "if result[1] > 0.05:\n",
        "    print('Time Series is not stationary at 95% confidence interval')\n",
        "else:\n",
        "    print('Time Series is stationary at 95% confidence interval')"
      ],
      "id": "bb1e5c13"
    },
    {
      "cell_type": "markdown",
      "metadata": {
        "id": "cd0bdad8"
      },
      "source": [
        "Checking Autocorrelation Function (ACF) and Partial Autocorrelation Function (PACF) helps to identify the order of an autoregressive (AR) or moving average (MA) model."
      ],
      "id": "cd0bdad8"
    },
    {
      "cell_type": "code",
      "execution_count": null,
      "metadata": {
        "id": "927e2ef3"
      },
      "outputs": [],
      "source": [
        "# ACF Plot\n",
        "autocorrelation_plot(data[\"actual_consumption\"])\n",
        "plt.xlim(0,10000)\n",
        "plt.show()"
      ],
      "id": "927e2ef3"
    },
    {
      "cell_type": "code",
      "execution_count": null,
      "metadata": {
        "id": "2140e711",
        "scrolled": true
      },
      "outputs": [],
      "source": [
        "# PACF Plot\n",
        "fig, ax = plt.subplots(figsize=(8, 3))\n",
        "plot_pacf(data['actual_consumption'], ax=ax, lags=50, method='ywm')\n",
        "ax.set_title('Partial Autocorrelation Function')\n",
        "plt.show()"
      ],
      "id": "2140e711"
    },
    {
      "cell_type": "code",
      "execution_count": null,
      "metadata": {
        "id": "e8e47895"
      },
      "outputs": [],
      "source": [
        "# Plot the time series with rolling mean and standard deviation\n",
        "rolling_mean = data['actual_consumption'].rolling(window=12).mean()\n",
        "rolling_std = data['actual_consumption'].rolling(window=12).std()\n",
        "\n",
        "fig, ax = plt.subplots(figsize=(20, 5))\n",
        "data['actual_consumption'].plot(ax=ax, linewidth=0.5)\n",
        "rolling_mean.plot(ax=ax, label='Rolling Mean', linewidth=0.5)\n",
        "rolling_std.plot(ax=ax, label='Rolling Std', linewidth=0.5)\n",
        "ax.set_title('Time Series Plot with Rolling Mean and Standard Deviation')\n",
        "plt.legend()\n",
        "plt.show()"
      ],
      "id": "e8e47895"
    },
    {
      "cell_type": "markdown",
      "metadata": {
        "id": "6c517fc2"
      },
      "source": [
        "### Model Building and Testing"
      ],
      "id": "6c517fc2"
    },
    {
      "cell_type": "code",
      "execution_count": null,
      "metadata": {
        "id": "79f6448a"
      },
      "outputs": [],
      "source": [
        "#split into test and train\n",
        "consumption = data['actual_consumption']\n",
        "train_data, test_data = train_test_split(consumption, test_size=0.2, shuffle=False)\n",
        "y_test = test_data.index.values\n",
        "y_test = [pd.Timestamp(date) for date in y_test]"
      ],
      "id": "79f6448a"
    },
    {
      "cell_type": "markdown",
      "metadata": {
        "id": "b079dd15"
      },
      "source": [
        "#### 1. Auto ARIMA"
      ],
      "id": "b079dd15"
    },
    {
      "cell_type": "code",
      "execution_count": null,
      "metadata": {
        "id": "3c4e7ef6"
      },
      "outputs": [],
      "source": [
        "# Select the actual_consumption column as the time series data\n",
        "model_1 = pm.auto_arima(data['actual_consumption'], seasonal=True, suppress_warnings=True, error_action=\"ignore\", stepwise=True, trace=True)\n",
        "model_1A = model_1.fit(data['actual_consumption'])"
      ],
      "id": "3c4e7ef6"
    },
    {
      "cell_type": "code",
      "execution_count": null,
      "metadata": {
        "id": "1bb907d3"
      },
      "outputs": [],
      "source": [
        "forecast = model_1A.predict(n_periods=200)"
      ],
      "id": "1bb907d3"
    },
    {
      "cell_type": "markdown",
      "metadata": {
        "id": "a3bef51a"
      },
      "source": [
        "#### 2. AutoTS"
      ],
      "id": "a3bef51a"
    },
    {
      "cell_type": "code",
      "execution_count": null,
      "metadata": {
        "id": "b7c51fea"
      },
      "outputs": [],
      "source": [
        "model_2 = AutoTS(forecast_length=200,frequency='15T',ensemble='stacked',max_generations=1,num_validations=1,)\n",
        "model_2A = model_2.fit(data['actual_consumption'])"
      ],
      "id": "b7c51fea"
    },
    {
      "cell_type": "code",
      "execution_count": null,
      "metadata": {
        "id": "a171f9b0"
      },
      "outputs": [],
      "source": [
        "forecast2 = model_2A.predict()\n",
        "y_forecast = forecast2.forecast\n",
        "y_upper_forecast = forecast2.upper_forecast\n",
        "y_lower_forecast = forecast2.lower_forecast"
      ],
      "id": "a171f9b0"
    },
    {
      "cell_type": "markdown",
      "metadata": {
        "id": "74fb5a12"
      },
      "source": [
        "### Prediction/forecast comparison"
      ],
      "id": "74fb5a12"
    },
    {
      "cell_type": "code",
      "execution_count": null,
      "metadata": {
        "id": "003d4991",
        "scrolled": true
      },
      "outputs": [],
      "source": [
        "# Plot the actual consumption and the predictions\n",
        "most_recent_timestamp = data.index.max()\n",
        "plt.figure(figsize=(30,8))\n",
        "plt.plot(data[\"actual_consumption\"], label=\"actual_consumption\")\n",
        "plt.plot(forecast, label=\"Auto-ARIMA\")\n",
        "plt.plot(y_forecast, label=\"AutoTS\")\n",
        "plt.xlim(pd.Timestamp(most_recent_timestamp - pd.Timedelta(days=30)), most_recent_timestamp + pd.Timedelta(days=10))\n",
        "plt.legend(loc=\"best\")\n",
        "plt.show()"
      ],
      "id": "003d4991"
    }
  ],
  "metadata": {
    "colab": {
      "provenance": []
    },
    "kernelspec": {
      "display_name": "Python 3 (ipykernel)",
      "language": "python",
      "name": "python3"
    },
    "language_info": {
      "codemirror_mode": {
        "name": "ipython",
        "version": 3
      },
      "file_extension": ".py",
      "mimetype": "text/x-python",
      "name": "python",
      "nbconvert_exporter": "python",
      "pygments_lexer": "ipython3",
      "version": "3.9.15"
    }
  },
  "nbformat": 4,
  "nbformat_minor": 5
}